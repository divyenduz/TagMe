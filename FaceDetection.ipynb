{
 "metadata": {
  "name": "FaceDetection"
 },
 "nbformat": 3,
 "nbformat_minor": 0,
 "worksheets": [
  {
   "cells": [
    {
     "cell_type": "code",
     "collapsed": false,
     "input": "import numpy as np\nimport cv2\nimport os\n\n#face_cascade = cv2.CascadeClassifier('C:\\\\Downloads\\\\Software\\\\opencv\\\\sources\\\\data\\\\haarcascades\\\\haarcascade_frontalface_default.xml')\nface_cascade = cv2.CascadeClassifier('C:\\\\Downloads\\\\Software\\\\opencv\\\\sources\\\\data\\\\haarcascades\\\\custom_faces.xml')\nprint face_cascade",
     "language": "python",
     "metadata": {},
     "outputs": [
      {
       "output_type": "stream",
       "stream": "stdout",
       "text": "<CascadeClassifier 00000000051788B0>\n"
      }
     ],
     "prompt_number": 36
    },
    {
     "cell_type": "code",
     "collapsed": false,
     "input": "images_dir='C:\\\\Users\\\\divyendu\\\\Desktop\\\\haar-cascade-training-faces\\\\Train\\\\Images_50\\\\'\nimages = [images_dir + image for image in os.listdir(images_dir)]\nprint len(images)",
     "language": "python",
     "metadata": {},
     "outputs": [
      {
       "output_type": "stream",
       "stream": "stdout",
       "text": "500\n"
      }
     ],
     "prompt_number": 31
    },
    {
     "cell_type": "code",
     "collapsed": false,
     "input": "CONSTANT_LENGTH=500;\nlabels = open('C:\\\\Users\\\\divyendu\\\\Desktop\\\\data\\\\Train\\\\labels.txt', 'r')\nlabels_data = [line.strip() for line in labels]\nanswers=[0]*CONSTANT_LENGTH\nfor x in range(0, CONSTANT_LENGTH):\n    answers[x]=labels_data[x].split(' ')\nprint answers[0]",
     "language": "python",
     "metadata": {},
     "outputs": [
      {
       "output_type": "stream",
       "stream": "stdout",
       "text": "['012abc3cb7503bddef3ff59e0e52fd79.jpg', '1']\n"
      }
     ],
     "prompt_number": 32
    },
    {
     "cell_type": "code",
     "collapsed": false,
     "input": "dictionary={}\nfor ans in answers:\n    dictionary[ans[0]]=ans[1];",
     "language": "python",
     "metadata": {},
     "outputs": [],
     "prompt_number": 33
    },
    {
     "cell_type": "code",
     "collapsed": false,
     "input": "count = 0\nwrong = 0\nwrong2 = 0\nfor path in images:\n    img = cv2.imread(path)\n    gray = cv2.cvtColor(img, cv2.COLOR_BGR2GRAY)\n    faces = face_cascade.detectMultiScale(gray, 1.3, 5)\n   \n    flag=0\n    if len(faces) > 0:\n        flag=1\n        \n    if flag==1:\n        count=count+1;\n    \n    filename=path.split('\\\\')[-1:][0]\n    \n    if(flag==0 and dictionary[filename]=='3'):\n        wrong+=1\n        #print filename\n        \n    if(flag==1 and dictionary[filename]!='3'):\n        wrong2+=1\n        #print filename\n          \n    #cv2.imshow(filename,img)\n    #cv2.waitKey(0)\n    #cv2.destroyAllWindows()\nprint count\nprint wrong\nprint wrong2",
     "language": "python",
     "metadata": {},
     "outputs": [
      {
       "output_type": "stream",
       "stream": "stdout",
       "text": "0\n100\n0\nnew\n"
      }
     ],
     "prompt_number": 35
    },
    {
     "cell_type": "code",
     "collapsed": false,
     "input": "",
     "language": "python",
     "metadata": {},
     "outputs": []
    }
   ],
   "metadata": {}
  }
 ]
}
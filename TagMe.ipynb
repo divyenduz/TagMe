{
 "metadata": {
  "name": "TagMe"
 },
 "nbformat": 3,
 "nbformat_minor": 0,
 "worksheets": [
  {
   "cells": [
    {
     "cell_type": "heading",
     "level": 1,
     "metadata": {},
     "source": "Initial importing"
    },
    {
     "cell_type": "code",
     "collapsed": false,
     "input": "%matplotlib inline\nimport matplotlib.pyplot as plt\nfrom sklearn.decomposition import PCA\nfrom sklearn.cross_validation import train_test_split\n\nfrom sklearn.metrics import classification_report\nfrom sklearn.metrics import confusion_matrix\n\nimport numpy as np\nimport pandas as pd\n\nimport statsmodels.api as sm\n\nfrom sklearn.decomposition import RandomizedPCA\n\nfrom numpy import loadtxt, where\nfrom pylab import scatter, show, legend, xlabel, ylabel",
     "language": "python",
     "metadata": {},
     "outputs": [],
     "prompt_number": 70
    },
    {
     "cell_type": "heading",
     "level": 1,
     "metadata": {},
     "source": "Function definations"
    },
    {
     "cell_type": "code",
     "collapsed": false,
     "input": "def strip_first_col(fname, delimiter=None):\n    with open(fname, 'r') as fin:\n        for line in fin:\n            try:\n               yield line.split(delimiter, 1)[1]\n            except IndexError:\n               continue\n                \ndef confusion_matrix_test(conf_matrix):\n    print sum(sum(conf_matrix))\n\ndef ctest(conf_matrix):\n    confusion_matrix_test(conf_matrix)\n    \ndef submission_report(predicted):\n    #Submission conf matrix\n    test_array = []\n    for zz in range(1,101):\n        test_array.append(1)\n    for zz in range(1,101):\n        test_array.append(2)\n    for zz in range(1,101):\n        test_array.append(3)\n    for zz in range(1,101):\n        test_array.append(4)\n    for zz in range(1,101):\n        test_array.append(5)\n    print classification_report(test_array, predicted, labels=None, target_names=None)\n    print confusion_matrix(test_array,predicted)\n    #ctest(confusion_matrix(y_test,y_pred))\n    \ndef load_data(pca=0):\n    #load the dataset\n    data = loadtxt(strip_first_col('C:\\\\Users\\\\divyendu\\\\Desktop\\\\data\\\\Train\\\\feature_vectors.txt'), dtype=float) \n    X = data[:, :]\n    X= X.astype(float)\n\n    print X.shape\n\n    ans= loadtxt('C:\\\\Users\\\\divyendu\\\\Desktop\\\\data\\\\Train\\\\labels.txt', dtype=str, delimiter=' ')\n    y = ans[:, 1]\n    yf=y.astype(float)\n    \n    if(pca==1):\n        pca10 = RandomizedPCA(n_components=2)\n        X = pca10.fit_transform(X)\n    \n    return X, yf\n\ndef load_validation_data(pca=0):\n    #load filenames\n    filenames = loadtxt('C:\\\\Users\\\\divyendu\\\\Desktop\\\\data\\\\Validation\\\\feature_vectors.txt', dtype=str,usecols=(0,))\n    print filenames.shape\n\n    data = loadtxt(strip_first_col('C:\\\\Users\\\\divyendu\\\\Desktop\\\\data\\\\Validation\\\\feature_vectors.txt'), dtype=float) \n    X = data[:, :]\n    X= X.astype(float)\n    \n    if(pca==1):\n        pca10 = RandomizedPCA(n_components=2)\n        X=pca10.fit_transform(X)\n    print X.shape\n    \n    return filenames, X",
     "language": "python",
     "metadata": {},
     "outputs": [],
     "prompt_number": 71
    },
    {
     "cell_type": "heading",
     "level": 1,
     "metadata": {},
     "source": "Submission - K-Neighbours"
    },
    {
     "cell_type": "code",
     "collapsed": false,
     "input": "X,yf= load_data(0)\nfrom sklearn.neighbors import KNeighborsClassifier\nclf = KNeighborsClassifier()\nclf.fit(X, yf)",
     "language": "python",
     "metadata": {},
     "outputs": [
      {
       "output_type": "stream",
       "stream": "stdout",
       "text": "(500L, 240L)\n"
      },
      {
       "metadata": {},
       "output_type": "pyout",
       "prompt_number": 75,
       "text": "KNeighborsClassifier(algorithm='auto', leaf_size=30, metric='minkowski',\n           n_neighbors=5, p=2, weights='uniform')"
      }
     ],
     "prompt_number": 75
    },
    {
     "cell_type": "code",
     "collapsed": false,
     "input": "filenames, X = load_validation_data(0)\npredicted = clf.predict(X)\nf = open('C:\\\\Users\\\\divyendu\\\\Desktop\\\\data\\\\Validation\\\\out1.txt','w')\nfor zz in range(len(predicted)):\n    f.write(filenames[zz] + ' ' + str(predicted[zz]) + '\\n')\nf.close()",
     "language": "python",
     "metadata": {},
     "outputs": [
      {
       "output_type": "stream",
       "stream": "stdout",
       "text": "(500L,)\n(500L, 240L)"
      },
      {
       "output_type": "stream",
       "stream": "stdout",
       "text": "\n"
      }
     ],
     "prompt_number": 76
    },
    {
     "cell_type": "code",
     "collapsed": false,
     "input": "submission_report(predicted)",
     "language": "python",
     "metadata": {},
     "outputs": [
      {
       "output_type": "stream",
       "stream": "stdout",
       "text": "             precision    recall  f1-score   support\n\n          1       0.47      0.58      0.52       100\n          2       0.73      0.67      0.70       100\n          3       0.65      0.62      0.64       100\n          4       0.56      0.59      0.58       100\n          5       0.80      0.67      0.73       100\n\navg / total       0.64      0.63      0.63       500\n\n[[58  9 12 16  5]\n [15 67  4 14  0]\n [12  4 62 13  9]\n [22 11  5 59  3]\n [17  1 12  3 67]]\n"
      }
     ],
     "prompt_number": 77
    },
    {
     "cell_type": "heading",
     "level": 1,
     "metadata": {},
     "source": "Submission - Random Forest"
    },
    {
     "cell_type": "code",
     "collapsed": false,
     "input": "from sklearn.ensemble import RandomForestClassifier",
     "language": "python",
     "metadata": {},
     "outputs": [],
     "prompt_number": 83
    },
    {
     "cell_type": "code",
     "collapsed": false,
     "input": "X,yf= load_data(0)\nclf = RandomForestClassifier(n_estimators=200)\nclf.fit(X, yf)",
     "language": "python",
     "metadata": {},
     "outputs": [
      {
       "output_type": "stream",
       "stream": "stdout",
       "text": "(500L, 240L)\n"
      },
      {
       "metadata": {},
       "output_type": "pyout",
       "prompt_number": 84,
       "text": "RandomForestClassifier(bootstrap=True, compute_importances=None,\n            criterion='gini', max_depth=None, max_features='auto',\n            min_density=None, min_samples_leaf=1, min_samples_split=2,\n            n_estimators=200, n_jobs=1, oob_score=False, random_state=None,\n            verbose=0)"
      }
     ],
     "prompt_number": 84
    },
    {
     "cell_type": "code",
     "collapsed": false,
     "input": "filenames, X = load_validation_data(0)\npredicted = clf.predict(X)\nf = open('C:\\\\Users\\\\divyendu\\\\Desktop\\\\data\\\\Validation\\\\out.txt','w')\nfor zz in range(len(predicted)):\n    f.write(filenames[zz] + ' ' + str(predicted[zz]) + '\\n')\nf.close()",
     "language": "python",
     "metadata": {},
     "outputs": [
      {
       "output_type": "stream",
       "stream": "stdout",
       "text": "(500L,)\n(500L, 240L)"
      },
      {
       "output_type": "stream",
       "stream": "stdout",
       "text": "\n"
      }
     ],
     "prompt_number": 85
    },
    {
     "cell_type": "code",
     "collapsed": false,
     "input": "submission_report(predicted)",
     "language": "python",
     "metadata": {},
     "outputs": [
      {
       "output_type": "stream",
       "stream": "stdout",
       "text": "             precision    recall  f1-score   support\n\n          1       0.74      0.60      0.66       100\n          2       0.83      0.88      0.85       100\n          3       0.71      0.79      0.75       100\n          4       0.72      0.77      0.74       100\n          5       0.73      0.69      0.71       100\n\navg / total       0.75      0.75      0.74       500\n\n[[60 13 10  4 13]\n [ 6 88  0  6  0]\n [ 2  0 79 14  5]\n [ 7  5  4 77  7]\n [ 6  0 19  6 69]]\n"
      }
     ],
     "prompt_number": 86
    },
    {
     "cell_type": "heading",
     "level": 1,
     "metadata": {},
     "source": "Submission - SVM"
    },
    {
     "cell_type": "code",
     "collapsed": false,
     "input": "from sklearn.svm import SVC\nX,yf= load_data(0)\nclf = SVC(kernel='linear')\nclf.fit(X, yf)",
     "language": "python",
     "metadata": {},
     "outputs": [
      {
       "output_type": "stream",
       "stream": "stdout",
       "text": "(500L, 240L)\n"
      },
      {
       "metadata": {},
       "output_type": "pyout",
       "prompt_number": 91,
       "text": "SVC(C=1.0, cache_size=200, class_weight=None, coef0=0.0, degree=3, gamma=0.0,\n  kernel='linear', max_iter=-1, probability=False, random_state=None,\n  shrinking=True, tol=0.001, verbose=False)"
      }
     ],
     "prompt_number": 91
    },
    {
     "cell_type": "code",
     "collapsed": false,
     "input": "filenames, X = load_validation_data(0)\npredicted = clf.predict(X)\nf = open('C:\\\\Users\\\\divyendu\\\\Desktop\\\\data\\\\Validation\\\\out1.txt','w')\nfor zz in range(len(predicted)):\n    f.write(filenames[zz] + ' ' + str(predicted[zz]) + '\\n')\nf.close()",
     "language": "python",
     "metadata": {},
     "outputs": [
      {
       "output_type": "stream",
       "stream": "stdout",
       "text": "(500L,)\n(500L, 240L)"
      },
      {
       "output_type": "stream",
       "stream": "stdout",
       "text": "\n"
      }
     ],
     "prompt_number": 92
    },
    {
     "cell_type": "code",
     "collapsed": false,
     "input": "submission_report(predicted)",
     "language": "python",
     "metadata": {},
     "outputs": [
      {
       "output_type": "stream",
       "stream": "stdout",
       "text": "             precision    recall  f1-score   support\n\n          1       0.59      0.57      0.58       100\n          2       0.76      0.65      0.70       100\n          3       0.68      0.80      0.74       100\n          4       0.66      0.63      0.65       100\n          5       0.71      0.75      0.73       100\n\navg / total       0.68      0.68      0.68       500\n\n[[57 11 10  9 13]\n [19 65  3 11  2]\n [ 5  2 80  4  9]\n [11  6 13 63  7]\n [ 5  1 11  8 75]]\n"
      }
     ],
     "prompt_number": 93
    },
    {
     "cell_type": "heading",
     "level": 1,
     "metadata": {},
     "source": "One-Vs-The-Rest"
    },
    {
     "cell_type": "code",
     "collapsed": false,
     "input": "from sklearn import datasets\nfrom sklearn.multiclass import OneVsRestClassifier\nfrom sklearn.svm import LinearSVC\nX,yf= load_data(0)\nclf=OneVsRestClassifier(LinearSVC(random_state=0))\nclf.fit(X, yf)",
     "language": "python",
     "metadata": {},
     "outputs": [
      {
       "output_type": "stream",
       "stream": "stdout",
       "text": "(500L, 240L)\n"
      },
      {
       "metadata": {},
       "output_type": "pyout",
       "prompt_number": 97,
       "text": "OneVsRestClassifier(estimator=LinearSVC(C=1.0, class_weight=None, dual=True, fit_intercept=True,\n     intercept_scaling=1, loss='l2', multi_class='ovr', penalty='l2',\n     random_state=0, tol=0.0001, verbose=0),\n          n_jobs=1)"
      }
     ],
     "prompt_number": 97
    },
    {
     "cell_type": "code",
     "collapsed": false,
     "input": "filenames, X = load_validation_data(0)\npredicted = clf.predict(X)\nf = open('C:\\\\Users\\\\divyendu\\\\Desktop\\\\data\\\\Validation\\\\out1.txt','w')\nfor zz in range(len(predicted)):\n    f.write(filenames[zz] + ' ' + str(predicted[zz]) + '\\n')\nf.close()",
     "language": "python",
     "metadata": {},
     "outputs": [
      {
       "output_type": "stream",
       "stream": "stdout",
       "text": "(500L,)\n(500L, 240L)"
      },
      {
       "output_type": "stream",
       "stream": "stdout",
       "text": "\n"
      }
     ],
     "prompt_number": 98
    },
    {
     "cell_type": "code",
     "collapsed": false,
     "input": "submission_report(predicted)",
     "language": "python",
     "metadata": {},
     "outputs": [
      {
       "output_type": "stream",
       "stream": "stdout",
       "text": "             precision    recall  f1-score   support\n\n          1       0.59      0.10      0.17       100\n          2       0.72      0.36      0.48       100\n          3       0.30      0.99      0.46       100\n          4       0.63      0.49      0.55       100\n          5       0.80      0.20      0.32       100\n\navg / total       0.61      0.43      0.40       500\n\n[[10 12 66 10  2]\n [ 2 36 48 14  0]\n [ 0  0 99  1  0]\n [ 5  2 41 49  3]\n [ 0  0 76  4 20]]\n"
      }
     ],
     "prompt_number": 99
    },
    {
     "cell_type": "heading",
     "level": 1,
     "metadata": {},
     "source": "Submission - One-vs-One"
    },
    {
     "cell_type": "code",
     "collapsed": false,
     "input": "from sklearn import datasets\nfrom sklearn.multiclass import OneVsOneClassifier\nfrom sklearn.svm import LinearSVC\nfrom sklearn.neighbors import KNeighborsClassifier\n\nX,yf= load_data(0)\n\nclf=OneVsOneClassifier(KNeighborsClassifier(n_neighbors=3))\nclf.fit(X, yf)",
     "language": "python",
     "metadata": {},
     "outputs": [
      {
       "output_type": "stream",
       "stream": "stdout",
       "text": "(500L, 240L)\n"
      },
      {
       "metadata": {},
       "output_type": "pyout",
       "prompt_number": 103,
       "text": "OneVsOneClassifier(estimator=KNeighborsClassifier(algorithm='auto', leaf_size=30, metric='minkowski',\n           n_neighbors=3, p=2, weights='uniform'),\n          n_jobs=1)"
      }
     ],
     "prompt_number": 103
    },
    {
     "cell_type": "code",
     "collapsed": false,
     "input": "filenames, X = load_validation_data(0)\npredicted = clf.predict(X)\nf = open('C:\\\\Users\\\\divyendu\\\\Desktop\\\\data\\\\Validation\\\\out.txt','w')\nfor zz in range(len(predicted)):\n    f.write(filenames[zz] + ' ' + str(predicted[zz]) + '\\n')\nf.close()",
     "language": "python",
     "metadata": {},
     "outputs": [
      {
       "output_type": "stream",
       "stream": "stdout",
       "text": "(500L,)\n(500L, 240L)"
      },
      {
       "output_type": "stream",
       "stream": "stdout",
       "text": "\n"
      }
     ],
     "prompt_number": 104
    },
    {
     "cell_type": "code",
     "collapsed": false,
     "input": "submission_report(predicted)",
     "language": "python",
     "metadata": {},
     "outputs": [
      {
       "output_type": "stream",
       "stream": "stdout",
       "text": "             precision    recall  f1-score   support\n\n          1       0.51      0.50      0.51       100\n          2       0.75      0.69      0.72       100\n          3       0.61      0.62      0.62       100\n          4       0.54      0.66      0.59       100\n          5       0.77      0.67      0.72       100\n\navg / total       0.64      0.63      0.63       500\n\n[[50  8 17 20  5]\n [ 8 69  4 18  1]\n [ 9  6 62 13 10]\n [15  9  6 66  4]\n [16  0 12  5 67]]\n"
      }
     ],
     "prompt_number": 105
    },
    {
     "cell_type": "code",
     "collapsed": false,
     "input": "",
     "language": "python",
     "metadata": {},
     "outputs": []
    }
   ],
   "metadata": {}
  }
 ]
}
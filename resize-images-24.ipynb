{
 "metadata": {
  "name": "resize-images-24"
 },
 "nbformat": 3,
 "nbformat_minor": 0,
 "worksheets": [
  {
   "cells": [
    {
     "cell_type": "code",
     "collapsed": false,
     "input": "%matplotlib inline\nimport matplotlib.pyplot as plt\nimport numpy as np\nimport cv2\nimport os\nfrom PIL import Image",
     "language": "python",
     "metadata": {},
     "outputs": [],
     "prompt_number": 20
    },
    {
     "cell_type": "code",
     "collapsed": false,
     "input": "base= \"C:/Users/divyendu/Desktop/haar-cascade-training-faces/Train/\"\nimages_dir=base+'Images/'\nimages_dir_rotate=base+'Images_rotate/'\n\nimages = [images_dir + image for image in os.listdir(images_dir)]\nprint len(images)",
     "language": "python",
     "metadata": {},
     "outputs": [
      {
       "output_type": "stream",
       "stream": "stdout",
       "text": "500\n"
      }
     ],
     "prompt_number": 21
    },
    {
     "cell_type": "code",
     "collapsed": false,
     "input": "#EACH SECTION SAMPLE GENERATOR\nCONSTANT_LENGTH=500;\nlabels = open('C:\\\\Users\\\\divyendu\\\\Desktop\\\\data\\\\Train\\\\labels.txt', 'r')\nlabels_data = [line.strip() for line in labels]\nanswers=[0]*CONSTANT_LENGTH\ndictionary={}\nfor x in range(0, CONSTANT_LENGTH):\n    answers[x]=labels_data[x].split(' ')\n    dictionary[answers[x][0]]=answers[x][1]",
     "language": "python",
     "metadata": {},
     "outputs": [],
     "prompt_number": 21
    },
    {
     "cell_type": "code",
     "collapsed": false,
     "input": "#category wise rotation\nfor path in images:\n    filename=path.split('/')[-1:][0]\n    category=dictionary[filename]\n    im = Image.open(path)\n \n    if(category=='1'):\n        images_dir1=base+'buildings/'\n    if(category=='2'):\n        images_dir1=base+'cars/'\n    if(category=='3'):\n        images_dir1=base+'faces/'\n    if(category=='4'):\n        images_dir1=base+'flowers/'\n    if(category=='5'):\n        images_dir1=base+'shoes/'\n    \n    im.save(images_dir1+filename)\n    \n    im=im.rotate(90)\n    im.save(images_dir1+\"A\"+filename)\n    \n    im=im.rotate(180)\n    im.save(images_dir1+\"B\"+filename)\n    \n    im=im.rotate(270)\n    im.save(images_dir1+\"C\"+filename)\n    \n    #plt.imshow(im)",
     "language": "python",
     "metadata": {},
     "outputs": [],
     "prompt_number": 25
    },
    {
     "cell_type": "code",
     "collapsed": false,
     "input": "#generate 2K rotated 240x240images\nfor path in images:\n    filename=path.split('/')[-1:][0]\n    im = Image.open(path)\n \n    im.save(images_dir_rotate+filename)\n    \n    im=im.rotate(90)\n    im.save(images_dir_rotate+\"A\"+filename)\n    \n    im=im.rotate(180)\n    im.save(images_dir_rotate+\"B\"+filename)\n    \n    im=im.rotate(270)\n    im.save(images_dir_rotate+\"C\"+filename)\n    \n    #plt.imshow(im)\n    ",
     "language": "python",
     "metadata": {},
     "outputs": [],
     "prompt_number": 26
    },
    {
     "cell_type": "code",
     "collapsed": false,
     "input": "#generate 2K rotated X/Y Images\nSIZE_X = 50\nSIZE_Y = SIZE_X\n\npath_rotate=base+'Images_'+str(SIZE_X)+'_rotate/'\nfor path in images:\n    filename=path.split('/')[-1:][0]\n    im = Image.open(path)\n    size=SIZE_X, SIZE_Y\n    im.thumbnail(size, Image.ANTIALIAS)\n    \n    im.save(path_rotate+filename)\n    \n    im=im.rotate(90)\n    im.save(path_rotate+\"A\"+filename)\n    \n    im=im.rotate(180)\n    im.save(path_rotate+\"B\"+filename)\n    \n    im=im.rotate(270)\n    im.save(path_rotate+\"C\"+filename)\n    \n    #plt.imshow(im)",
     "language": "python",
     "metadata": {},
     "outputs": [],
     "prompt_number": 4
    },
    {
     "cell_type": "code",
     "collapsed": false,
     "input": "#generate X/Y Images\nSIZE_X = 50\nSIZE_Y = SIZE_X\n\npathnormal=base+'Images_'+str(SIZE_X)+'/'\n\nfor path in images:\n    filename=path.split('/')[-1:][0]\n    im = Image.open(path)\n    size=SIZE_X, SIZE_Y\n    im.thumbnail(size, Image.ANTIALIAS)\n    im.save(pathnormal+filename)\n    \n    #plt.imshow(im)",
     "language": "python",
     "metadata": {},
     "outputs": [],
     "prompt_number": 22
    },
    {
     "cell_type": "code",
     "collapsed": false,
     "input": "",
     "language": "python",
     "metadata": {},
     "outputs": []
    }
   ],
   "metadata": {}
  }
 ]
}